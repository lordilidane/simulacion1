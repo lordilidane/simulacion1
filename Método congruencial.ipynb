{
 "cells": [
  {
   "cell_type": "code",
   "execution_count": 2,
   "metadata": {
    "collapsed": false
   },
   "outputs": [
    {
     "name": "stdout",
     "output_type": "stream",
     "text": [
      "0.615384615385\n",
      "0.384615384615\n",
      "0.692307692308\n",
      "0.615384615385\n",
      "0.384615384615\n",
      "0.692307692308\n",
      "0.615384615385\n",
      "0.384615384615\n",
      "0.692307692308\n",
      "0.615384615385\n"
     ]
    }
   ],
   "source": [
    "x0 = 9\n",
    "a = 3\n",
    "b = 7\n",
    "m = 13\n",
    "\n",
    "\n",
    "def  iterar():\n",
    "    xi = x0\n",
    "    ui =0\n",
    "    for x in range(10):\n",
    "        xi = (a*xi + 7)%(m)\n",
    "        ui = float(xi)/float(m)\n",
    "        print(ui)\n",
    "        \n",
    "    \n",
    "iterar()\n",
    "\n"
   ]
  },
  {
   "cell_type": "code",
   "execution_count": null,
   "metadata": {
    "collapsed": true
   },
   "outputs": [],
   "source": []
  }
 ],
 "metadata": {
  "anaconda-cloud": {},
  "kernelspec": {
   "display_name": "Python [Root]",
   "language": "python",
   "name": "Python [Root]"
  },
  "language_info": {
   "codemirror_mode": {
    "name": "ipython",
    "version": 2
   },
   "file_extension": ".py",
   "mimetype": "text/x-python",
   "name": "python",
   "nbconvert_exporter": "python",
   "pygments_lexer": "ipython2",
   "version": "2.7.12"
  }
 },
 "nbformat": 4,
 "nbformat_minor": 0
}
