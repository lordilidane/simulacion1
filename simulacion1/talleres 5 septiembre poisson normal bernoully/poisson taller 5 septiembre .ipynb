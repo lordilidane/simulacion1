{
 "cells": [
  {
   "cell_type": "code",
   "execution_count": 50,
   "metadata": {
    "collapsed": false
   },
   "outputs": [
    {
     "name": "stdout",
     "output_type": "stream",
     "text": [
      "lamda: 5\n",
      "k: 10\n",
      "0\n",
      "1\n",
      "2\n",
      "3\n",
      "4\n",
      "5\n",
      "6\n",
      "7\n",
      "8\n",
      "9\n",
      "10\n",
      "0.986304731402\n"
     ]
    },
    {
     "data": {
      "image/png": "[encoded data removed]",
      "text/plain": [
       "<matplotlib.figure.Figure at 0xcd9d0b8>"
      ]
     },
     "metadata": {},
     "output_type": "display_data"
    }
   ],
   "source": [
    "%matplotlib inline \n",
    "import matplotlib.pyplot as plt\n",
    "import matplotlib.mlab as mlab\n",
    "import math\n",
    "import numpy as np\n",
    "\n",
    "def  congruencial(x0):\n",
    "    a = 1664525\n",
    "    b = 1013904223\n",
    "    m = 2**32\n",
    "    xi = x0\n",
    "    ui =0\n",
    "    xi = (a*xi + b)%(m)\n",
    "    ui = float(xi)/float(m)\n",
    "\n",
    "    return xi,ui\n",
    "\n",
    "\n",
    "distribucion = [0.05,0.15,0.3,0.3,0.15,0.05]\n",
    "\n",
    "def acumulada(dis):\n",
    "    acum = []\n",
    "    for x in range(len(dis)):\n",
    "        if(x == 0):\n",
    "            acum.append(dis[x])\n",
    "        else:\n",
    "            suma = acum[x-1]+dis[x]\n",
    "            acum.append(suma)\n",
    "        \n",
    "    return acum\n",
    "\n",
    "def inversion(acum,semilla,itera):\n",
    "    inver = []\n",
    "    xi = semilla\n",
    "    for i in range(itera):\n",
    "        xi,random = congruencial(xi)\n",
    "        #print('iteracion : ')\n",
    "        #print(random)\n",
    "        for x in range(len(acum)):\n",
    "            if(random <=acum[x]):\n",
    "                #print(x+1)\n",
    "                inver.append(x+1) \n",
    "                break\n",
    "    return inver\n",
    "        \n",
    "def  generarPoisson(lamda,k):\n",
    "    poisson = []\n",
    "    for i in range(k+1):\n",
    "        a = (math.exp(-lamda)*lamda**i)\n",
    "        fac = factorial(i)        \n",
    "        poisson.append(a/fac)\n",
    "    return poisson\n",
    "\n",
    "def factorial(n):\n",
    "    if n == 0:\n",
    "        return 1\n",
    "    else:\n",
    "        return n * factorial(n-1)\n",
    "\n",
    "lamda =int(input(\"lamda: \"))\n",
    "k =int(input(\"k: \"))\n",
    "fxPoisson = generarPoisson(lamda,k)\n",
    "print(np.sum(fxPoisson))\n",
    "acum = acumulada(fxPoisson)\n",
    "\n",
    "#print(acum)\n",
    "semilla = 5\n",
    "metodo_inversion = inversion(acum,semilla,10000)\n",
    "#print(metodo_inversion)\n",
    "num_bins = 50\n",
    "n, bins, patches = plt.hist(metodo_inversion, num_bins, normed=1, facecolor='green', alpha=0.5)\n",
    "mu = lamda  #medio de distribución\n",
    "sigma = 1  # desviación estándar de la distribución de\n",
    "#y = mlab.normpdf(bins, mu, sigma)\n",
    "#plt.plot(bins, y, 'r--')\n",
    "\n",
    "plt.xlabel('numero aleatorios')\n",
    "plt.ylabel('Probabilidad')\n",
    "plt.title(r'Histograma parametros: $\\mu='+str(lamda)+'$, k=15')\n",
    "\n",
    "# Tweak spacing to prevent clipping of ylabel\n",
    "plt.subplots_adjust(left=0.15)\n",
    "plt.show()\n",
    "#count, bins, ignored = plt.hist(metodo_inversion)\n",
    "#plt.plot(bins, np.ones_like(bins), linewidth=2, color='r')\n",
    "#plt.plot(fxPoisson)\n",
    "#plt.show()"
   ]
  },
  {
   "cell_type": "code",
   "execution_count": null,
   "metadata": {
    "collapsed": true
   },
   "outputs": [],
   "source": []
  }
 ],
 "metadata": {
  "kernelspec": {
   "display_name": "Python 2",
   "language": "python",
   "name": "python2"
  },
  "language_info": {
   "codemirror_mode": {
    "name": "ipython",
    "version": 2
   },
   "file_extension": ".py",
   "mimetype": "text/x-python",
   "name": "python",
   "nbconvert_exporter": "python",
   "pygments_lexer": "ipython2",
   "version": "2.7.10"
  }
 },
 "nbformat": 4,
 "nbformat_minor": 0
}
