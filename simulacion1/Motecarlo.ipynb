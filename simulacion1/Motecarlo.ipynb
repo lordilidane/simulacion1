{
 "cells": [
  {
   "cell_type": "code",
   "execution_count": null,
   "metadata": {
    "collapsed": true
   },
   "outputs": [],
   "source": []
  },
  {
   "cell_type": "code",
   "execution_count": 16,
   "metadata": {
    "collapsed": false
   },
   "outputs": [
    {
     "name": "stdout",
     "output_type": "stream",
     "text": [
      "0.9689487524217727\n"
     ]
    }
   ],
   "source": [
    "%matplotlib inline \n",
    "import matplotlib.pyplot as plt\n",
    "import math\n",
    "\n",
    "def  congruencial(x0):\n",
    "    a = 1664525\n",
    "    b = 1013904223\n",
    "    m = 2**32\n",
    "    xi = x0\n",
    "    ui =0\n",
    "    xi = (a*xi + b)%(m)\n",
    "    ui = float(xi)/float(m)\n",
    "\n",
    "    return xi,ui\n",
    "\n",
    "def Yi(n,semilla):\n",
    "    xi = semilla \n",
    "    yi =[]\n",
    "    for i in range(n):\n",
    "        xi,ui = congruencial(xi)\n",
    "        x = ui*2        \n",
    "        y = 2*math.exp(-x**2)\n",
    "        yi.append(y)\n",
    "        \n",
    "    return yi\n",
    "\n",
    "def sumatoria(yi):\n",
    "    suma=0    \n",
    "    for x in yi:\n",
    "        suma=suma+x\n",
    "    \n",
    "    total = (1/len(yi))*suma\n",
    "    return total\n",
    "\n",
    "iteraciones = 100\n",
    "semilla = 5\n",
    "yi = Yi(iteraciones,semilla)\n",
    "\n",
    "suma = sumatoria(yi)\n",
    "print(suma)\n",
    "        \n",
    "        "
   ]
  },
  {
   "cell_type": "code",
   "execution_count": null,
   "metadata": {
    "collapsed": true
   },
   "outputs": [],
   "source": []
  }
 ],
 "metadata": {
  "kernelspec": {
   "display_name": "Python [Root]",
   "language": "python",
   "name": "Python [Root]"
  },
  "language_info": {
   "codemirror_mode": {
    "name": "ipython",
    "version": 3
   },
   "file_extension": ".py",
   "mimetype": "text/x-python",
   "name": "python",
   "nbconvert_exporter": "python",
   "pygments_lexer": "ipython3",
   "version": "3.5.2"
  }
 },
 "nbformat": 4,
 "nbformat_minor": 0
}
