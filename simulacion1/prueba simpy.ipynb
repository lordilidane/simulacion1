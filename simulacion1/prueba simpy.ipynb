{
 "cells": [
  {
   "cell_type": "code",
   "execution_count": 1,
   "metadata": {
    "collapsed": false
   },
   "outputs": [
    {
     "name": "stdout",
     "output_type": "stream",
     "text": [
      "Collecting simpy\n",
      "  Downloading simpy-3.0.10-py2.py3-none-any.whl\n",
      "Installing collected packages: simpy\n",
      "Successfully installed simpy-3.0.10\n"
     ]
    }
   ],
   "source": [
    "!pip install simpy"
   ]
  },
  {
   "cell_type": "code",
   "execution_count": 2,
   "metadata": {
    "collapsed": true
   },
   "outputs": [],
   "source": [
    "import simpy"
   ]
  },
  {
   "cell_type": "code",
   "execution_count": 3,
   "metadata": {
    "collapsed": false
   },
   "outputs": [
    {
     "name": "stdout",
     "output_type": "stream",
     "text": [
      "============================= test session starts =============================\n",
      "platform win32 -- Python 3.5.2, pytest-2.9.2, py-1.4.31, pluggy-0.3.1\n",
      "rootdir: C:\\Users\\felip\\OneDrive\\Documents\\python, inifile: \n",
      "collected 0 items\n",
      "\n",
      "======================== no tests ran in 0.10 seconds =========================\n"
     ]
    }
   ],
   "source": [
    "!py.test --pyargs simpy"
   ]
  },
  {
   "cell_type": "code",
   "execution_count": 4,
   "metadata": {
    "collapsed": false
   },
   "outputs": [
    {
     "name": "stdout",
     "output_type": "stream",
     "text": [
      "Bank renege\n",
      " 0.0000 Customer00: Here I am\n",
      " 0.0000 Customer00: Waited  0.000\n",
      " 3.8595 Customer00: Finished\n",
      "10.2006 Customer01: Here I am\n",
      "10.2006 Customer01: Waited  0.000\n",
      "12.7265 Customer02: Here I am\n",
      "13.9003 Customer02: RENEGED after  1.174\n",
      "23.7507 Customer01: Finished\n",
      "34.9993 Customer03: Here I am\n",
      "34.9993 Customer03: Waited  0.000\n",
      "37.9599 Customer03: Finished\n",
      "40.4798 Customer04: Here I am\n",
      "40.4798 Customer04: Waited  0.000\n",
      "43.1401 Customer04: Finished\n"
     ]
    }
   ],
   "source": [
    "\"\"\"\n",
    "Bank renege example\n",
    "\n",
    "Covers:\n",
    "\n",
    "- Resources: Resource\n",
    "- Condition events\n",
    "\n",
    "Scenario:\n",
    "  A counter with a random service time and customers who renege. Based on the\n",
    "  program bank08.py from TheBank tutorial of SimPy 2. (KGM)\n",
    "\n",
    "\"\"\"\n",
    "import random\n",
    "\n",
    "import simpy\n",
    "\n",
    "\n",
    "RANDOM_SEED = 42\n",
    "NEW_CUSTOMERS = 5  # Total number of customers\n",
    "INTERVAL_CUSTOMERS = 10.0  # Generate new customers roughly every x seconds\n",
    "MIN_PATIENCE = 1  # Min. customer patience\n",
    "MAX_PATIENCE = 3  # Max. customer patience\n",
    "\n",
    "\n",
    "def source(env, number, interval, counter):\n",
    "    \"\"\"Source generates customers randomly\"\"\"\n",
    "    for i in range(number):\n",
    "        c = customer(env, 'Customer%02d' % i, counter, time_in_bank=12.0)\n",
    "        env.process(c)\n",
    "        t = random.expovariate(1.0 / interval)\n",
    "        yield env.timeout(t)\n",
    "\n",
    "\n",
    "def customer(env, name, counter, time_in_bank):\n",
    "    \"\"\"Customer arrives, is served and leaves.\"\"\"\n",
    "    arrive = env.now\n",
    "    print('%7.4f %s: Here I am' % (arrive, name))\n",
    "\n",
    "    with counter.request() as req:\n",
    "        patience = random.uniform(MIN_PATIENCE, MAX_PATIENCE)\n",
    "        # Wait for the counter or abort at the end of our tether\n",
    "        results = yield req | env.timeout(patience)\n",
    "\n",
    "        wait = env.now - arrive\n",
    "\n",
    "        if req in results:\n",
    "            # We got to the counter\n",
    "            print('%7.4f %s: Waited %6.3f' % (env.now, name, wait))\n",
    "\n",
    "            tib = random.expovariate(1.0 / time_in_bank)\n",
    "            yield env.timeout(tib)\n",
    "            print('%7.4f %s: Finished' % (env.now, name))\n",
    "\n",
    "        else:\n",
    "            # We reneged\n",
    "            print('%7.4f %s: RENEGED after %6.3f' % (env.now, name, wait))\n",
    "\n",
    "\n",
    "# Setup and start the simulation\n",
    "print('Bank renege')\n",
    "random.seed(RANDOM_SEED)\n",
    "env = simpy.Environment()\n",
    "\n",
    "# Start processes and run\n",
    "counter = simpy.Resource(env, capacity=1)\n",
    "env.process(source(env, NEW_CUSTOMERS, INTERVAL_CUSTOMERS, counter))\n",
    "env.run()"
   ]
  },
  {
   "cell_type": "code",
   "execution_count": 5,
   "metadata": {
    "collapsed": true
   },
   "outputs": [],
   "source": [
    "def car(env):\n",
    "     while True:\n",
    "         print('Start parking at %d' % env.now)\n",
    "         parking_duration = 5\n",
    "         yield env.timeout(parking_duration)\n",
    "\n",
    "         print('Start driving at %d' % env.now)\n",
    "         trip_duration = 2\n",
    "         yield env.timeout(trip_duration)"
   ]
  },
  {
   "cell_type": "code",
   "execution_count": 7,
   "metadata": {
    "collapsed": false
   },
   "outputs": [
    {
     "name": "stdout",
     "output_type": "stream",
     "text": [
      "Start parking at 0\n",
      "Start driving at 5\n",
      "Start parking at 7\n",
      "Start driving at 12\n",
      "Start parking at 14\n"
     ]
    }
   ],
   "source": [
    "import simpy\n",
    "env = simpy.Environment()\n",
    "env.process(car(env))\n",
    "\n",
    "env.run(until=15)"
   ]
  },
  {
   "cell_type": "code",
   "execution_count": 8,
   "metadata": {
    "collapsed": true
   },
   "outputs": [],
   "source": [
    "class Car(object):\n",
    "     def __init__(self, env):\n",
    "         self.env = env\n",
    "         # Start the run process everytime an instance is created.\n",
    "         self.action = env.process(self.run())\n",
    "\n",
    "     def run(self):\n",
    "         while True:\n",
    "             print('Start parking and charging at %d' % self.env.now)\n",
    "             charge_duration = 5\n",
    "             # We yield the process that process() returns\n",
    "             # to wait for it to finish\n",
    "             yield self.env.process(self.charge(charge_duration))\n",
    "\n",
    "             # The charge process has finished and\n",
    "             # we can start driving again.\n",
    "             print('Start driving at %d' % self.env.now)\n",
    "             trip_duration = 2\n",
    "             yield self.env.timeout(trip_duration)\n",
    "\n",
    "     def charge(self, duration):\n",
    "         yield self.env.timeout(duration)"
   ]
  },
  {
   "cell_type": "code",
   "execution_count": 9,
   "metadata": {
    "collapsed": false
   },
   "outputs": [
    {
     "name": "stdout",
     "output_type": "stream",
     "text": [
      "Start parking and charging at 0\n",
      "Start driving at 5\n",
      "Start parking and charging at 7\n",
      "Start driving at 12\n",
      "Start parking and charging at 14\n"
     ]
    }
   ],
   "source": [
    "import simpy\n",
    "env = simpy.Environment()\n",
    "car = Car(env)\n",
    "env.run(until=15)"
   ]
  },
  {
   "cell_type": "code",
   "execution_count": 10,
   "metadata": {
    "collapsed": true
   },
   "outputs": [],
   "source": [
    "def driver(env, car):\n",
    "     yield env.timeout(3)\n",
    "     car.action.interrupt()"
   ]
  },
  {
   "cell_type": "code",
   "execution_count": 11,
   "metadata": {
    "collapsed": true
   },
   "outputs": [],
   "source": [
    "class Car(object):\n",
    "     def __init__(self, env):\n",
    "         self.env = env\n",
    "         self.action = env.process(self.run())\n",
    "\n",
    "     def run(self):\n",
    "         while True:\n",
    "             print('Start parking and charging at %d' % self.env.now)\n",
    "             charge_duration = 5\n",
    "             # We may get interrupted while charging the battery\n",
    "             try:\n",
    "                 yield self.env.process(self.charge(charge_duration))\n",
    "             except simpy.Interrupt:\n",
    "                 # When we received an interrupt, we stop charging and\n",
    "                 # switch to the \"driving\" state\n",
    "                 print('Was interrupted. Hope, the battery is full enough ')\n",
    "\n",
    "             print('Start driving at %d' % self.env.now)\n",
    "             trip_duration = 2\n",
    "             yield self.env.timeout(trip_duration)\n",
    "\n",
    "     def charge(self, duration):\n",
    "         yield self.env.timeout(duration)"
   ]
  },
  {
   "cell_type": "code",
   "execution_count": 12,
   "metadata": {
    "collapsed": false
   },
   "outputs": [
    {
     "name": "stdout",
     "output_type": "stream",
     "text": [
      "Start parking and charging at 0\n",
      "Was interrupted. Hope, the battery is full enough \n",
      "Start driving at 3\n",
      "Start parking and charging at 5\n",
      "Start driving at 10\n",
      "Start parking and charging at 12\n"
     ]
    }
   ],
   "source": [
    "env = simpy.Environment()\n",
    "car = Car(env)\n",
    "env.process(driver(env, car))\n",
    "\n",
    "env.run(until=15)"
   ]
  },
  {
   "cell_type": "code",
   "execution_count": 13,
   "metadata": {
    "collapsed": true
   },
   "outputs": [],
   "source": [
    "def car(env, name, bcs, driving_time, charge_duration):\n",
    "     # Simulate driving to the BCS\n",
    "     yield env.timeout(driving_time)\n",
    "\n",
    "     # Request one of its charging spots\n",
    "     print('%s arriving at %d' % (name, env.now))\n",
    "     with bcs.request() as req:\n",
    "         yield req\n",
    "\n",
    "         # Charge the battery\n",
    "         print('%s starting to charge at %s' % (name, env.now))\n",
    "         yield env.timeout(charge_duration)\n",
    "         print('%s leaving the bcs at %s' % (name, env.now))"
   ]
  },
  {
   "cell_type": "markdown",
   "metadata": {},
   "source": []
  },
  {
   "cell_type": "code",
   "execution_count": 14,
   "metadata": {
    "collapsed": true
   },
   "outputs": [],
   "source": [
    "import simpy\n",
    "env = simpy.Environment()\n",
    "bcs = simpy.Resource(env, capacity=2)"
   ]
  },
  {
   "cell_type": "code",
   "execution_count": 15,
   "metadata": {
    "collapsed": true
   },
   "outputs": [],
   "source": [
    "for i in range(4):\n",
    "    env.process(car(env, 'Car %d' % i, bcs, i*2, 5))"
   ]
  },
  {
   "cell_type": "code",
   "execution_count": 16,
   "metadata": {
    "collapsed": false
   },
   "outputs": [
    {
     "name": "stdout",
     "output_type": "stream",
     "text": [
      "Car 0 arriving at 0\n",
      "Car 0 starting to charge at 0\n",
      "Car 1 arriving at 2\n",
      "Car 1 starting to charge at 2\n",
      "Car 2 arriving at 4\n",
      "Car 0 leaving the bcs at 5\n",
      "Car 2 starting to charge at 5\n",
      "Car 3 arriving at 6\n",
      "Car 1 leaving the bcs at 7\n",
      "Car 3 starting to charge at 7\n",
      "Car 2 leaving the bcs at 10\n",
      "Car 3 leaving the bcs at 12\n"
     ]
    }
   ],
   "source": [
    "env.run()"
   ]
  },
  {
   "cell_type": "code",
   "execution_count": null,
   "metadata": {
    "collapsed": true
   },
   "outputs": [],
   "source": []
  }
 ],
 "metadata": {
  "anaconda-cloud": {},
  "kernelspec": {
   "display_name": "Python [Root]",
   "language": "python",
   "name": "Python [Root]"
  },
  "language_info": {
   "codemirror_mode": {
    "name": "ipython",
    "version": 3
   },
   "file_extension": ".py",
   "mimetype": "text/x-python",
   "name": "python",
   "nbconvert_exporter": "python",
   "pygments_lexer": "ipython3",
   "version": "3.5.2"
  }
 },
 "nbformat": 4,
 "nbformat_minor": 0
}
