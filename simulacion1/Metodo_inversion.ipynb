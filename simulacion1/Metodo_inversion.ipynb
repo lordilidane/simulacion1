{
 "cells": [
  {
   "cell_type": "code",
   "execution_count": null,
   "metadata": {
    "collapsed": true
   },
   "outputs": [],
   "source": []
  },
  {
   "cell_type": "code",
   "execution_count": 39,
   "metadata": {
    "collapsed": false
   },
   "outputs": [
    {
     "name": "stdout",
     "output_type": "stream",
     "text": [
      "[0.05, 0.2, 0.5, 0.8, 0.9500000000000001, 1.0]\n",
      "[3, 4, 3, 5, 4, 3, 3, 3, 2, 5, 2, 2, 3, 4, 2, 5, 3, 3, 5, 2, 6, 3, 4, 4, 4, 3, 6, 3, 4, 3, 3, 4, 2, 3, 6, 3, 5, 3, 3, 3, 5, 4, 3, 4, 2, 2, 2, 2, 4, 3, 2, 3, 2, 3, 1, 4, 3, 3, 4, 4, 3, 4, 2, 3, 2, 4, 5, 5, 2, 3, 2, 3, 2, 4, 4, 4, 3, 4, 5, 2, 4, 5, 1, 4, 6, 3, 6, 3, 3, 6, 3, 2, 4, 4, 4, 5, 2, 2, 5, 3]\n"
     ]
    },
    {
     "data": {
      "image/png": "[encoded data removed]",
      "text/plain": [
       "<matplotlib.figure.Figure at 0x1e46fe14eb8>"
      ]
     },
     "metadata": {},
     "output_type": "display_data"
    }
   ],
   "source": [
    "%matplotlib inline \n",
    "import matplotlib.pyplot as plt\n",
    "import math\n",
    "import numpy as np\n",
    "\n",
    "def  congruencial(x0):\n",
    "    a = 1664525\n",
    "    b = 1013904223\n",
    "    m = 2**32\n",
    "    xi = x0\n",
    "    ui =0\n",
    "    xi = (a*xi + b)%(m)\n",
    "    ui = float(xi)/float(m)\n",
    "\n",
    "    return xi,ui\n",
    "\n",
    "\n",
    "distribucion = [0.05,0.15,0.3,0.3,0.15,0.05]\n",
    "\n",
    "def acumulada(dis):\n",
    "    acum = []\n",
    "    for x in range(len(dis)):\n",
    "        if(x == 0):\n",
    "            acum.append(dis[x])\n",
    "        else:\n",
    "            suma = acum[x-1]+dis[x]\n",
    "            acum.append(suma)\n",
    "        \n",
    "    return acum\n",
    "\n",
    "def inversion(acum,semilla,itera):\n",
    "    inver = []\n",
    "    xi = semilla\n",
    "    for i in range(itera):\n",
    "        xi,random = congruencial(xi)\n",
    "        #print('iteracion : ')\n",
    "        #print(random)\n",
    "        for x in range(len(acum)):\n",
    "            if(random <=acum[x]):\n",
    "                #print(x+1)\n",
    "                inver.append(x+1) \n",
    "                break\n",
    "    return inver\n",
    "        \n",
    "            \n",
    "acum = acumulada(distribucion)\n",
    "\n",
    "print(acum)\n",
    "semilla = 5\n",
    "metodo_inversion = inversion(acum,semilla,100)\n",
    "print(metodo_inversion)\n",
    "\n",
    "count, bins, ignored = plt.hist(metodo_inversion, 25, normed=True)\n",
    "plt.plot(bins, np.ones_like(bins), linewidth=2, color='r')\n",
    "plt.show()"
   ]
  },
  {
   "cell_type": "code",
   "execution_count": null,
   "metadata": {
    "collapsed": true
   },
   "outputs": [],
   "source": []
  }
 ],
 "metadata": {
  "kernelspec": {
   "display_name": "Python [Root]",
   "language": "python",
   "name": "Python [Root]"
  },
  "language_info": {
   "codemirror_mode": {
    "name": "ipython",
    "version": 3
   },
   "file_extension": ".py",
   "mimetype": "text/x-python",
   "name": "python",
   "nbconvert_exporter": "python",
   "pygments_lexer": "ipython3",
   "version": "3.5.2"
  }
 },
 "nbformat": 4,
 "nbformat_minor": 0
}
