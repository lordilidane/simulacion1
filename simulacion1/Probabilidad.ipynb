{
 "cells": [
  {
   "cell_type": "markdown",
   "metadata": {
    "slideshow": {
     "slide_type": "subslide"
    }
   },
   "source": [
    "# Mi primer jupiter\n",
    "\n",
    "para esta implemetacióon he creado una serie de funciones que me servirán para la solución del problema\n"
   ]
  },
  {
   "cell_type": "code",
   "execution_count": 24,
   "metadata": {
    "collapsed": false
   },
   "outputs": [
    {
     "name": "stdout",
     "output_type": "stream",
     "text": [
      "mediana\n",
      "10.5\n",
      "varianza\n",
      "15.916666666666666\n"
     ]
    }
   ],
   "source": [
    "def sumar(vector):\n",
    "    total = 0\n",
    "    for x in vector:\n",
    "        \n",
    "        total += x\n",
    "    return total\n",
    "    \n",
    "def promedio(vector):\n",
    "    sum_vector = sumar(vector)\n",
    "    promedio = float(sum_vector) / len(vector)\n",
    "    return promedio\n",
    "\n",
    "# Para calcular la varianza restamos a cada puntancion la media y \n",
    "# los sumamos, lo elevamos al cuadrado y lo divimos entre 2\n",
    "def varianaza(scores, promedio):\n",
    "    sumatorio = 0\n",
    "    for data in scores:\n",
    "        sumatorio += (promedio - float(data))**2\n",
    "    variance = float(sumatorio)/len(scores)\n",
    "    return variance\n",
    "\n",
    "\n",
    "\n",
    "def combinaciones(dado1,dado2):\n",
    "    aux = []\n",
    "    for x in range(1,dado1):\n",
    "        for y in range(1,dado2):\n",
    "            aux.append(x+y)\n",
    "    #print(aux)\n",
    "    return aux\n",
    "                    \n",
    "carasDado1 = 8 #escribimos \n",
    "carasDado2 = 13\n",
    "\n",
    "aux = combinaciones(carasDado1,carasDado2)\n",
    "#aux = sorted(aux)\n",
    "promedio = promedio(aux)\n",
    "\n",
    "print('mediana')\n",
    "print(promedio)\n",
    "print('varianza')\n",
    "print(varianaza(aux,promedio))\n",
    "\n",
    "import matplotlib.pyplot as plt\n",
    "import numpy as np\n",
    "#plt.axis([0,24,0,10])\n",
    "x = np.arange(0, 5, 0.1);\n",
    "y = np.sin(x)\n",
    "plt.plot(aux)\n",
    "plt.show()"
   ]
  },
  {
   "cell_type": "code",
   "execution_count": null,
   "metadata": {
    "collapsed": true
   },
   "outputs": [],
   "source": []
  },
  {
   "cell_type": "code",
   "execution_count": null,
   "metadata": {
    "collapsed": true
   },
   "outputs": [],
   "source": []
  }
 ],
 "metadata": {
  "anaconda-cloud": {},
  "celltoolbar": "Raw Cell Format",
  "kernelspec": {
   "display_name": "Python [Root]",
   "language": "python",
   "name": "Python [Root]"
  },
  "language_info": {
   "codemirror_mode": {
    "name": "ipython",
    "version": 3
   },
   "file_extension": ".py",
   "mimetype": "text/x-python",
   "name": "python",
   "nbconvert_exporter": "python",
   "pygments_lexer": "ipython3",
   "version": "3.5.2"
  }
 },
 "nbformat": 4,
 "nbformat_minor": 0
}
