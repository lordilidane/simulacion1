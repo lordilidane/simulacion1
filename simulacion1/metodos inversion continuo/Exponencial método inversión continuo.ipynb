{
 "cells": [
  {
   "cell_type": "code",
   "execution_count": 75,
   "metadata": {
    "collapsed": false
   },
   "outputs": [
    {
     "data": {
      "image/png": "[encoded data removed]",
      "text/plain": [
       "<matplotlib.figure.Figure at 0x721c160>"
      ]
     },
     "metadata": {},
     "output_type": "display_data"
    }
   ],
   "source": [
    "%matplotlib inline \n",
    "import matplotlib.pyplot as plt\n",
    "import math\n",
    "\n",
    "def  congruencial(x0):\n",
    "    a = 1664525\n",
    "    b = 1013904223\n",
    "    m = 2**32\n",
    "    xi = x0\n",
    "    ui =0\n",
    "    xi = (a*xi + b)%(m)\n",
    "    ui = float(xi)/float(m)\n",
    "\n",
    "    return ui,xi\n",
    "\n",
    "def expon(iteraciones,landa,semilla):\n",
    "    x0 = semilla\n",
    "    expon = []\n",
    "    for i in range(iteraciones):\n",
    "        ui,x0 = congruencial(x0)\n",
    "        #print ui\n",
    "        ex = (-math.log(1-ui))/landa\n",
    "        expon.append(ex)\n",
    "        #expon.append((-math.log(1-ui))/landa)\n",
    "    return expon\n",
    "\n",
    "def expteorico(iteraciones,landa):\n",
    "    teoricoX = []\n",
    "    teoricoY = []\n",
    "    for i in range(iteraciones):\n",
    "        x = float(float(i)/100.0)\n",
    "        #print(x)\n",
    "        teoricoY.append(landa*math.exp(-landa*x))\n",
    "        teoricoX.append(x)\n",
    "    return teoricoX,teoricoY\n",
    "        \n",
    "iteraciones = 100000\n",
    "landa = 5\n",
    "semilla =5\n",
    "\n",
    "ax = plt.gca()\n",
    "expon = expon(iteraciones,landa,semilla)\n",
    "teoricoX,teoricoY = expteorico(100,landa)\n",
    "\n",
    "count, bins, ignored = plt.hist(expon, 25, normed=True)\n",
    "ax.plot(teoricoX,teoricoY,'red')\n",
    "plt.show()\n",
    "#print(expon)\n"
   ]
  },
  {
   "cell_type": "code",
   "execution_count": null,
   "metadata": {
    "collapsed": true
   },
   "outputs": [],
   "source": []
  }
 ],
 "metadata": {
  "anaconda-cloud": {},
  "kernelspec": {
   "display_name": "Python [Root]",
   "language": "python",
   "name": "Python [Root]"
  },
  "language_info": {
   "codemirror_mode": {
    "name": "ipython",
    "version": 2
   },
   "file_extension": ".py",
   "mimetype": "text/x-python",
   "name": "python",
   "nbconvert_exporter": "python",
   "pygments_lexer": "ipython2",
   "version": "2.7.12"
  }
 },
 "nbformat": 4,
 "nbformat_minor": 0
}
