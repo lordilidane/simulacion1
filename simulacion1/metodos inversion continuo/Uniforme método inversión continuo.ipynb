{
 "cells": [
  {
   "cell_type": "markdown",
   "metadata": {},
   "source": [
    "$F^{-1}(p)=a + p * (b - a) para  0 < p < 1 $"
   ]
  },
  {
   "cell_type": "code",
   "execution_count": 9,
   "metadata": {
    "collapsed": false
   },
   "outputs": [
    {
     "data": {
      "image/png": "[encoded data removed]",
      "text/plain": [
       "<matplotlib.figure.Figure at 0x72ce4a8>"
      ]
     },
     "metadata": {},
     "output_type": "display_data"
    }
   ],
   "source": [
    "%matplotlib inline \n",
    "import matplotlib.pyplot as plt\n",
    "import math\n",
    "\n",
    "def  congruencial(x0):\n",
    "    a = 1664525\n",
    "    b = 1013904223\n",
    "    m = 2**32\n",
    "    xi = x0\n",
    "    ui =0\n",
    "    xi = (a*xi + b)%(m)\n",
    "    ui = float(xi)/float(m)\n",
    "\n",
    "    return ui,xi\n",
    "\n",
    "def uniforme(iteraciones,a,b,semilla):\n",
    "    x0 = semilla\n",
    "    uniforme = []\n",
    "    for i in range(iteraciones):\n",
    "        ui,x0 = congruencial(x0)\n",
    "        #print ui\n",
    "        uni = a + ui*(b-a) \n",
    "        uniforme.append(uni)\n",
    "        #expon.append((-math.log(1-ui))/landa)\n",
    "    return uniforme\n",
    "\n",
    "def uniformeteorico(iteraciones,a,b):\n",
    "    teoricoX = []\n",
    "    teoricoY = []\n",
    "    \n",
    "    for i in range(a,b):\n",
    "        #x = float(float(i)/100.0)\n",
    "        x =i\n",
    "        #print(x)\n",
    "        teoricoY.append(1/(b-a))\n",
    "        teoricoX.append(x)\n",
    "    return teoricoX,teoricoY\n",
    "        \n",
    "iteraciones = 1000\n",
    "a = 5\n",
    "b = 8\n",
    "semilla =5\n",
    "\n",
    "ax = plt.gca()\n",
    "uniforme = uniforme(iteraciones,a,b,semilla)\n",
    "\n",
    "teoricoX,teoricoY = uniformeteorico(100,a,b)\n",
    "\n",
    "count, bins, ignored = plt.hist(uniforme, 25, normed=True)\n",
    "ax.plot(teoricoX,teoricoY,'red')\n",
    "plt.show()\n"
   ]
  },
  {
   "cell_type": "code",
   "execution_count": null,
   "metadata": {
    "collapsed": true
   },
   "outputs": [],
   "source": []
  }
 ],
 "metadata": {
  "kernelspec": {
   "display_name": "Python [Root]",
   "language": "python",
   "name": "Python [Root]"
  },
  "language_info": {
   "codemirror_mode": {
    "name": "ipython",
    "version": 2
   },
   "file_extension": ".py",
   "mimetype": "text/x-python",
   "name": "python",
   "nbconvert_exporter": "python",
   "pygments_lexer": "ipython2",
   "version": "2.7.12"
  }
 },
 "nbformat": 4,
 "nbformat_minor": 0
}
