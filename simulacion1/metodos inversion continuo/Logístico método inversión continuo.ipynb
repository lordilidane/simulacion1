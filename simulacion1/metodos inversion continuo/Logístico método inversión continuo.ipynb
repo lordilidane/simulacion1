{
 "cells": [
  {
   "cell_type": "markdown",
   "metadata": {},
   "source": [
    "# Distribución logística\n",
    "\n",
    "inversa ${\\displaystyle F^{-1}(p;\\mu ,s)=\\mu +s\\,\\ln \\left({\\frac {p}{1-p}}\\right).}$"
   ]
  },
  {
   "cell_type": "code",
   "execution_count": 3,
   "metadata": {
    "collapsed": false
   },
   "outputs": [],
   "source": [
    "%matplotlib inline \n",
    "import matplotlib.pyplot as plt\n",
    "import math\n",
    "\n",
    "def  congruencial(x0):\n",
    "    a = 1664525\n",
    "    b = 1013904223\n",
    "    m = 2**32\n",
    "    xi = x0\n",
    "    ui =0\n",
    "    xi = (a*xi + b)%(m)\n",
    "    ui = float(xi)/float(m)\n",
    "\n",
    "    return ui,xi\n",
    "\n",
    "def logistica(iteraciones,u,s,semilla):\n",
    "    x0 = semilla\n",
    "    x = []\n",
    "    for i in range(iteraciones):\n",
    "        p,x0 = congruencial(x0)\n",
    "        #print ui\n",
    "        prov = u + s*math.log(p/(1-p)) \n",
    "        x.append(prov)\n",
    "        #expon.append((-math.log(1-p))/landa)\n",
    "    return x\n",
    "\n"
   ]
  },
  {
   "cell_type": "markdown",
   "metadata": {},
   "source": [
    "### teorico\n",
    "\n",
    "Acumulada \n",
    "${\\displaystyle F(x;\\mu ,s)={\\frac {1}{1+e^{-(x-\\mu )/s}}}\\!}$\n",
    "\n",
    "${\\displaystyle ={\\frac {1}{2}}+{\\frac {1}{2}}\\;\\operatorname {tanh} \\!\\left({\\frac {x-\\mu }{2\\,s}}\\right).}$\n",
    "\n",
    "Función de densidad\n",
    "${\\displaystyle f(x;\\mu ,s)={\\frac {e^{-(x-\\mu )/s}}{s\\left(1+e^{-(x-\\mu )/s}\\right)^{2}}}\\!}\n",
    "{\\displaystyle ={\\frac {1}{4\\,s}}\\;\\operatorname {sech} ^{2}\\!\\left({\\frac {x-\\mu }{2\\,s}}\\right).} {\\displaystyle ={\\frac {1}{4\\,s}}\\;\\operatorname {sech} ^{2}\\!\\left({\\frac {x-\\mu }{2\\,s}}\\right).}$"
   ]
  },
  {
   "cell_type": "code",
   "execution_count": 26,
   "metadata": {
    "collapsed": false
   },
   "outputs": [
    {
     "data": {
      "image/png": "[encoded data removed]",
      "text/plain": [
       "<matplotlib.figure.Figure at 0x2439c161d68>"
      ]
     },
     "metadata": {},
     "output_type": "display_data"
    }
   ],
   "source": [
    "\n",
    "%matplotlib inline \n",
    "import matplotlib.pyplot as plt\n",
    "import math\n",
    "\n",
    "def  congruencial(x0):\n",
    "    a = 1664525\n",
    "    b = 1013904223\n",
    "    m = 2**32\n",
    "    xi = x0\n",
    "    ui =0\n",
    "    xi = (a*xi + b)%(m)\n",
    "    ui = float(xi)/float(m)\n",
    "\n",
    "    return ui,xi\n",
    "\n",
    "def logistica(iteraciones,u,s,semilla):\n",
    "    x0 = semilla\n",
    "    x = []\n",
    "    for i in range(iteraciones):\n",
    "        p,x0 = congruencial(x0)\n",
    "        #print ui\n",
    "        prov = u + s*math.log(p/(1-p)) \n",
    "        x.append(prov)\n",
    "        #expon.append((-math.log(1-p))/landa)\n",
    "    return x\n",
    "\n",
    "\n",
    "def logisticoteorico(k,u,s):\n",
    "    teoricoX = []\n",
    "    teoricoY = []\n",
    "    k0=-u*200\n",
    "    k = k*100\n",
    "    for i in range(k0,k):\n",
    "      \n",
    "        x = float(float(i)/100.0)\n",
    "        #numY = 1/2 + (1/2)*(math.tanh((x-u)/(2*s))) # acymulada de la logistica\n",
    "        #print(x)\n",
    "        #numY  = (1/(4*s))*(math.sech())\n",
    "        #numY =(math.exp(-(x-u)/2))/(s*((1+math.exp(-(x-u)/2))^2))\n",
    "        expon = (math.exp(-(x-u)/2))\n",
    "        numY = expon/(s*((1+expon)**2))\n",
    "        teoricoY.append(numY)\n",
    "        teoricoX.append(x)\n",
    "        \n",
    "    return teoricoX,teoricoY\n",
    "    \n",
    "iteraciones = 1000\n",
    "u = 5\n",
    "s = 2\n",
    "k = 20\n",
    "semilla = 10\n",
    "\n",
    "ax = plt.gca()\n",
    "logistica = logistica(iteraciones,u,s,semilla)\n",
    "#print(logistica)\n",
    "teoricoX,teoricoY = logisticoteorico(k,u,s)\n",
    "#print(teoricoY)\n",
    "count, bins, ignored = plt.hist(logistica, 25, normed=True,color = 'red')\n",
    "ax.plot(teoricoX,teoricoY,'blue',linewidth=2.5)\n",
    "plt.show()"
   ]
  },
  {
   "cell_type": "code",
   "execution_count": null,
   "metadata": {
    "collapsed": true
   },
   "outputs": [],
   "source": []
  },
  {
   "cell_type": "code",
   "execution_count": null,
   "metadata": {
    "collapsed": true
   },
   "outputs": [],
   "source": []
  }
 ],
 "metadata": {
  "anaconda-cloud": {},
  "kernelspec": {
   "display_name": "Python [Root]",
   "language": "python",
   "name": "Python [Root]"
  },
  "language_info": {
   "codemirror_mode": {
    "name": "ipython",
    "version": 3
   },
   "file_extension": ".py",
   "mimetype": "text/x-python",
   "name": "python",
   "nbconvert_exporter": "python",
   "pygments_lexer": "ipython3",
   "version": "3.5.2"
  }
 },
 "nbformat": 4,
 "nbformat_minor": 0
}
