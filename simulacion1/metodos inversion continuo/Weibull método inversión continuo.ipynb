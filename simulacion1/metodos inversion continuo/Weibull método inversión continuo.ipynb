{
 "cells": [
  {
   "cell_type": "markdown",
   "metadata": {},
   "source": [
    "# Weibull\n",
    "\n",
    "función inversa\n",
    "\n",
    "${\\displaystyle F(x;k,\\lambda ) = \\lambda  (-\\log(1-p))^{1/k}}$"
   ]
  },
  {
   "cell_type": "code",
   "execution_count": 22,
   "metadata": {
    "collapsed": false
   },
   "outputs": [],
   "source": [
    "\n",
    "%matplotlib inline \n",
    "import matplotlib.pyplot as plt\n",
    "import math\n",
    "\n",
    "def  congruencial(x0):\n",
    "    a = 1664525\n",
    "    b = 1013904223\n",
    "    m = 2**32\n",
    "    xi = x0\n",
    "    ui =0\n",
    "    xi = (a*xi + b)%(m)\n",
    "    ui = float(xi)/float(m)\n",
    "\n",
    "    return ui,xi\n",
    "\n",
    "def weibull(iteraciones,k,varlambda,semilla):\n",
    "    x0 = semilla\n",
    "    x = []\n",
    "    for i in range(iteraciones):\n",
    "        p,x0 = congruencial(x0)\n",
    "        #print ui\n",
    "        prov = varlambda*(-math.log(1-p))**(1/k)\n",
    "        x.append(prov)\n",
    "        #expon.append((-math.log(1-p))/landa)\n",
    "    return x\n",
    "\n",
    "\n"
   ]
  },
  {
   "cell_type": "markdown",
   "metadata": {},
   "source": [
    "## funcion de dencidad\n",
    "\n",
    "función de dencidad\n",
    "\n",
    "${\\displaystyle f(x;\\lambda ,k)={\\begin{cases}{\\frac {k}{\\lambda }}\\left({\\frac {x}{\\lambda }}\\right)^{k-1}e^{-(x/\\lambda )^{k}}&x\\geq 0\\\\0&x<0\\end{cases}}}$"
   ]
  },
  {
   "cell_type": "code",
   "execution_count": 23,
   "metadata": {
    "collapsed": false
   },
   "outputs": [
    {
     "data": {
      "image/png": "[encoded data removed]",
      "text/plain": [
       "<matplotlib.figure.Figure at 0x23dc0b5f710>"
      ]
     },
     "metadata": {},
     "output_type": "display_data"
    }
   ],
   "source": [
    "def weibullteorico(iteraciones,k,varlambda):\n",
    "    teoricoX = []\n",
    "    teoricoY = []\n",
    "    iteraciones = iteraciones*100\n",
    "    for i in range(iteraciones):\n",
    "      \n",
    "        x = float(float(i)/100.0)\n",
    "        \n",
    "        numY = (k/varlambda)*(x/varlambda)**(k-1)*math.exp(-(x/varlambda)**k)\n",
    "        teoricoY.append(numY)\n",
    "        teoricoX.append(x)\n",
    "        \n",
    "    return teoricoX,teoricoY\n",
    "    \n",
    "iteraciones = 1000\n",
    "#u = 5\n",
    "\n",
    "varlambda = 1\n",
    "k = 1.5\n",
    "semilla = 10\n",
    "rango = 2\n",
    "ax = plt.gca()\n",
    "weibull = weibull(iteraciones,k,varlambda,semilla)\n",
    "#print(logistica)\n",
    "weibullX,weibullY = weibullteorico(rango,k,varlambda)\n",
    "#print(teoricoY)\n",
    "count, bins, ignored = plt.hist(weibull, 25, normed=True,color = 'green')\n",
    "ax.plot(weibullX,weibullY,'orange',linewidth=2.5)\n",
    "plt.show()"
   ]
  },
  {
   "cell_type": "code",
   "execution_count": null,
   "metadata": {
    "collapsed": true
   },
   "outputs": [],
   "source": []
  }
 ],
 "metadata": {
  "kernelspec": {
   "display_name": "Python [Root]",
   "language": "python",
   "name": "Python [Root]"
  },
  "language_info": {
   "codemirror_mode": {
    "name": "ipython",
    "version": 3
   },
   "file_extension": ".py",
   "mimetype": "text/x-python",
   "name": "python",
   "nbconvert_exporter": "python",
   "pygments_lexer": "ipython3",
   "version": "3.5.2"
  }
 },
 "nbformat": 4,
 "nbformat_minor": 0
}
