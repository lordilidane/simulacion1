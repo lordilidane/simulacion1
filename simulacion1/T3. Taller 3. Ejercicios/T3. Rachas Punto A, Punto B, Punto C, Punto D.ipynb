{
 "cells": [
  {
   "cell_type": "markdown",
   "metadata": {},
   "source": [
    "## T3. Rachas \n",
    "\n",
    "#### librerias"
   ]
  },
  {
   "cell_type": "code",
   "execution_count": 29,
   "metadata": {
    "collapsed": true
   },
   "outputs": [],
   "source": [
    "%matplotlib inline \n",
    "import matplotlib.pyplot as plt\n",
    "import math\n",
    "import numpy as np\n",
    "import scipy as sp\n",
    "\n"
   ]
  },
  {
   "cell_type": "markdown",
   "metadata": {},
   "source": [
    "### función principal rachas"
   ]
  },
  {
   "cell_type": "code",
   "execution_count": 30,
   "metadata": {
    "collapsed": true
   },
   "outputs": [],
   "source": [
    "def rachas(aleatorios,n):\n",
    "    N = n\n",
    "    racha = []\n",
    "    for i in range(len(aleatorios)-1):\n",
    "        if aleatorios[i] > aleatorios[i+1]:\n",
    "            racha.append(0)\n",
    "        elif aleatorios[i] < aleatorios[i+1]:\n",
    "            racha.append(1)\n",
    "    #print racha\n",
    "    R = 1 #Rachas\n",
    "    for i in range(len(racha)-1):\n",
    "        if racha[i] != racha[i+1]: \n",
    "            R+=1\n",
    "    \n",
    "    print ('Rachas:',R)\n",
    "    Z = (R - (2*N-1)/float(3))/math.sqrt((16*N-29)/float(90))\n",
    "    print ('|Z|:',np.absolute(Z))\n",
    "\n"
   ]
  },
  {
   "cell_type": "markdown",
   "metadata": {},
   "source": [
    "### función de generación de números aleatorios"
   ]
  },
  {
   "cell_type": "code",
   "execution_count": 31,
   "metadata": {
    "collapsed": true
   },
   "outputs": [],
   "source": [
    "def generarAleatorios(n,k):\n",
    "    x0 = 10\n",
    "    numeros = []\n",
    "    numerosContados = []\n",
    "    for i in range(n):\n",
    "        ui,x0 = congruencial(x0)\n",
    "        ni = int(ui*k)\n",
    "        numeros.append(ni)\n",
    "    for i in range(k):\n",
    "        numerosContados.append(numeros.count(i))\n",
    "        \n",
    "    return numeros,numerosContados\n",
    "\n"
   ]
  },
  {
   "cell_type": "markdown",
   "metadata": {},
   "source": [
    "### función auxiliar para mostrar gráficos"
   ]
  },
  {
   "cell_type": "code",
   "execution_count": 33,
   "metadata": {
    "collapsed": false
   },
   "outputs": [],
   "source": [
    "def mostrar(aleatorios,color):\n",
    "    n, bins, patches = plt.hist(aleatorios, normed=1, facecolor=color)\n",
    "    plt.show()"
   ]
  },
  {
   "cell_type": "markdown",
   "metadata": {},
   "source": [
    "### RANDU $x_{i+1}=65539 x_i \\mod 2^{31}$"
   ]
  },
  {
   "cell_type": "code",
   "execution_count": 32,
   "metadata": {
    "collapsed": true
   },
   "outputs": [],
   "source": [
    "def  congruencial(x0):\n",
    "    a = 65539\n",
    "    b = 0\n",
    "    m = 2**31\n",
    "    xi = x0\n",
    "    ui =0\n",
    "    xi = (a*xi + b)%(m)\n",
    "    ui = float(xi)/float(m)\n",
    "\n",
    "    return ui,xi"
   ]
  },
  {
   "cell_type": "code",
   "execution_count": 34,
   "metadata": {
    "collapsed": false
   },
   "outputs": [
    {
     "name": "stdout",
     "output_type": "stream",
     "text": [
      "n : \n",
      "10000\n",
      "k :\n",
      "10\n",
      "Rachas: 6361\n",
      "|Z|: 7.24227220245\n"
     ]
    },
    {
     "data": {
      "image/png": "[encoded data removed]",
      "text/plain": [
       "<matplotlib.figure.Figure at 0x1bcb1fa9588>"
      ]
     },
     "metadata": {},
     "output_type": "display_data"
    }
   ],
   "source": [
    "n =10000\n",
    "k = 10\n",
    "aleatorios,numerosContados = generarAleatorios(n,k)\n",
    "print('n : ')\n",
    "print(n)\n",
    "print('k :')\n",
    "print(k)\n",
    "#print('números :')\n",
    "#print(numerosContados)\n",
    "\n",
    "racha = rachas(aleatorios,n)\n",
    "\n",
    "\n",
    "mostrar(aleatorios,'red')"
   ]
  },
  {
   "cell_type": "markdown",
   "metadata": {},
   "source": [
    "### Sinclair ZX81 $x_{i+1}=75 x_i \\mod (2^{16}+1)$"
   ]
  },
  {
   "cell_type": "code",
   "execution_count": 35,
   "metadata": {
    "collapsed": false
   },
   "outputs": [
    {
     "name": "stdout",
     "output_type": "stream",
     "text": [
      "n : \n",
      "10000\n",
      "k :\n",
      "10\n",
      "Rachas: 6342\n",
      "|Z|: 7.69293761242\n"
     ]
    },
    {
     "data": {
      "image/png": "[encoded data removed]",
      "text/plain": [
       "<matplotlib.figure.Figure at 0x1bcb1fc9358>"
      ]
     },
     "metadata": {},
     "output_type": "display_data"
    }
   ],
   "source": [
    "def  congruencial(x0):\n",
    "    a = 75\n",
    "    b = 0\n",
    "    m = 2**16 +1\n",
    "    xi = x0\n",
    "    ui =0\n",
    "    xi = (a*xi + b)%(m)\n",
    "    ui = float(xi)/float(m)\n",
    "\n",
    "    return ui,xi\n",
    "\n",
    "n =10000\n",
    "k = 10\n",
    "aleatorios,numerosContados = generarAleatorios(n,k)\n",
    "print('n : ')\n",
    "print(n)\n",
    "print('k :')\n",
    "print(k)\n",
    "#print('números :')\n",
    "#print(numerosContados)\n",
    "\n",
    "racha = rachas(aleatorios,n)\n",
    "\n",
    "\n",
    "mostrar(aleatorios,'green')"
   ]
  },
  {
   "cell_type": "markdown",
   "metadata": {},
   "source": [
    "### Numerical reciepes $x_{i+1}= 1664525 x_i + 1013904223 \\mod 2^{32}$"
   ]
  },
  {
   "cell_type": "code",
   "execution_count": 36,
   "metadata": {
    "collapsed": false
   },
   "outputs": [
    {
     "name": "stdout",
     "output_type": "stream",
     "text": [
      "n : \n",
      "10000\n",
      "k :\n",
      "10\n",
      "Rachas: 6314\n",
      "|Z|: 8.35707611134\n"
     ]
    },
    {
     "data": {
      "image/png": "[encoded data removed]",
      "text/plain": [
       "<matplotlib.figure.Figure at 0x1bcb1f51438>"
      ]
     },
     "metadata": {},
     "output_type": "display_data"
    }
   ],
   "source": [
    "def  congruencial(x0):\n",
    "    a = 1664525\n",
    "    b = 1013904223\n",
    "    m = 2**32\n",
    "    xi = x0\n",
    "    ui =0\n",
    "    xi = (a*xi + b)%(m)\n",
    "    ui = float(xi)/float(m)\n",
    "\n",
    "    return ui,xi\n",
    "\n",
    "n =10000\n",
    "k = 10\n",
    "aleatorios,numerosContados = generarAleatorios(n,k)\n",
    "print('n : ')\n",
    "print(n)\n",
    "print('k :')\n",
    "print(k)\n",
    "#print('números :')\n",
    "#print(numerosContados)\n",
    "\n",
    "racha = rachas(aleatorios,n)\n",
    "\n",
    "\n",
    "mostrar(aleatorios,'blue')"
   ]
  },
  {
   "cell_type": "markdown",
   "metadata": {},
   "source": [
    "###  Borland C/C++ $x_{i+1}= 22695477 x_i + 1 \\mod 2^{32}$"
   ]
  },
  {
   "cell_type": "code",
   "execution_count": 37,
   "metadata": {
    "collapsed": false
   },
   "outputs": [
    {
     "name": "stdout",
     "output_type": "stream",
     "text": [
      "n : \n",
      "10000\n",
      "k :\n",
      "10\n",
      "Rachas: 6323\n",
      "|Z|: 8.1436030224\n"
     ]
    },
    {
     "data": {
      "image/png": "[encoded data removed]",
      "text/plain": [
       "<matplotlib.figure.Figure at 0x1bcb20e4470>"
      ]
     },
     "metadata": {},
     "output_type": "display_data"
    }
   ],
   "source": [
    "def  congruencial(x0):\n",
    "    a = 22695477\n",
    "    b = 1\n",
    "    m = 2**32\n",
    "    xi = x0\n",
    "    ui =0\n",
    "    xi = (a*xi + b)%(m)\n",
    "    ui = float(xi)/float(m)\n",
    "\n",
    "    return ui,xi\n",
    "\n",
    "n =10000\n",
    "k = 10\n",
    "aleatorios,numerosContados = generarAleatorios(n,k)\n",
    "print('n : ')\n",
    "print(n)\n",
    "print('k :')\n",
    "print(k)\n",
    "#print('números :')\n",
    "#print(numerosContados)\n",
    "\n",
    "racha = rachas(aleatorios,n)\n",
    "\n",
    "\n",
    "mostrar(aleatorios,'yellow')"
   ]
  },
  {
   "cell_type": "code",
   "execution_count": null,
   "metadata": {
    "collapsed": true
   },
   "outputs": [],
   "source": []
  }
 ],
 "metadata": {
  "kernelspec": {
   "display_name": "Python [Root]",
   "language": "python",
   "name": "Python [Root]"
  },
  "language_info": {
   "codemirror_mode": {
    "name": "ipython",
    "version": 3
   },
   "file_extension": ".py",
   "mimetype": "text/x-python",
   "name": "python",
   "nbconvert_exporter": "python",
   "pygments_lexer": "ipython3",
   "version": "3.5.2"
  }
 },
 "nbformat": 4,
 "nbformat_minor": 0
}
