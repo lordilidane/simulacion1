{
 "cells": [
  {
   "cell_type": "markdown",
   "metadata": {
    "collapsed": false
   },
   "source": [
    "### T3: Taller 3. punto a\n",
    "\n",
    "RANDU $a x_{n} + c \\mod m$\n",
    "\n",
    "#### Evaluación de RANDU $x_{i+1}=65539 x_i \\mod 2^{31}$  usando el método $\\chi^2$   "
   ]
  },
  {
   "cell_type": "code",
   "execution_count": 68,
   "metadata": {
    "collapsed": false
   },
   "outputs": [
    {
     "name": "stdout",
     "output_type": "stream",
     "text": [
      "n : \n",
      "1000\n",
      "k :\n",
      "10\n",
      "números :\n",
      "[110, 102, 98, 86, 101, 95, 91, 98, 99, 120]\n",
      "Chi-square = \n",
      "8.16\n"
     ]
    },
    {
     "data": {
      "image/png": "[encoded data removed]",
      "text/plain": [
       "<matplotlib.figure.Figure at 0x18a96ba6748>"
      ]
     },
     "metadata": {},
     "output_type": "display_data"
    }
   ],
   "source": [
    "%matplotlib inline \n",
    "import matplotlib.pyplot as plt\n",
    "import math\n",
    "import numpy as np\n",
    "import scipy as sp\n",
    "\n",
    "def  congruencial(x0):\n",
    "    a = 65539\n",
    "    b = 0\n",
    "    m = 2**31\n",
    "    xi = x0\n",
    "    ui =0\n",
    "    xi = (a*xi + b)%(m)\n",
    "    ui = float(xi)/float(m)\n",
    "\n",
    "    return ui,xi\n",
    "\n",
    "def generarAleatorios(n,k):\n",
    "    x0 = 10\n",
    "    numeros = []\n",
    "    numerosContados = []\n",
    "    for i in range(n):\n",
    "        ui,x0 = congruencial(x0)\n",
    "        ni = int(ui*k)\n",
    "        numeros.append(ni)\n",
    "    for i in range(k):\n",
    "        numerosContados.append(numeros.count(i))\n",
    "        \n",
    "    return numeros,numerosContados\n",
    "\n",
    "def chiCuadrado(n,aleatorios):\n",
    "    k = len(aleatorios)\n",
    "\n",
    "    ei = n/k\n",
    "   \n",
    "    x2 = []\n",
    "    for i in range(k):        \n",
    "        x = (((aleatorios[i] - ei)**2)/ei)\n",
    "     \n",
    "        x2.append(x)    \n",
    "    return x2\n",
    "\n",
    "n =1000\n",
    "k = 10\n",
    "aleatorios,numerosContados = generarAleatorios(n,k)\n",
    "print('n : ')\n",
    "print(n)\n",
    "print('k :')\n",
    "print(k)\n",
    "print('números :')\n",
    "print(numerosContados)\n",
    "\n",
    "chiCuadrado = chiCuadrado(n,numerosContados)\n",
    "\n",
    "print('Chi-square = ')\n",
    "print(np.sum(chiCuadrado))\n",
    "\n",
    "\n",
    "n, bins, patches = plt.hist(aleatorios, normed=1, facecolor='blue')\n",
    "plt.show()\n",
    "    "
   ]
  },
  {
   "cell_type": "markdown",
   "metadata": {},
   "source": [
    "### concluciones punto a\n",
    "\n",
    "Al evaluar el generador de números aleatorios RANDU $x_{i+1}=65539 x_i \\mod 2^{31}$ usando método de comprovación de uniformidad  $\\chi^2$, poemos deducir que ha mostrado muy buenos resultados mostrando un resultado aceptable, con un resultado favorable con respecto a la tabla de distribución de chi cuadrado \n",
    "   "
   ]
  },
  {
   "cell_type": "markdown",
   "metadata": {},
   "source": [
    "### T3: Taller 3. punto b\n",
    "\n",
    "Sinclair ZX81 $a x_{n} + c \\mod m$\n",
    "\n",
    "#### Evaluación de Sinclair ZX81 $x_{i+1}=75 x_i \\mod (2^{16}+1)$  usando el método $\\chi^2$   "
   ]
  },
  {
   "cell_type": "code",
   "execution_count": 64,
   "metadata": {
    "collapsed": false
   },
   "outputs": [
    {
     "name": "stdout",
     "output_type": "stream",
     "text": [
      "n : \n",
      "10000\n",
      "k :\n",
      "10\n",
      "números :\n",
      "[985, 1024, 1022, 960, 1003, 993, 1024, 1020, 1014, 955]\n",
      "Chi-square = \n",
      "6.14\n"
     ]
    },
    {
     "data": {
      "image/png": "[encoded data removed]",
      "text/plain": [
       "<matplotlib.figure.Figure at 0x18a96c75dd8>"
      ]
     },
     "metadata": {},
     "output_type": "display_data"
    }
   ],
   "source": [
    "%matplotlib inline \n",
    "import matplotlib.pyplot as plt\n",
    "import math\n",
    "import numpy as np\n",
    "import scipy as sp\n",
    "\n",
    "def  congruencial(x0):\n",
    "    a = 75\n",
    "    b = 0\n",
    "    m = 2**36 + 1\n",
    "    xi = x0\n",
    "    ui =0\n",
    "    xi = (a*xi + b)%(m)\n",
    "    ui = float(xi)/float(m)\n",
    "\n",
    "    return ui,xi\n",
    "\n",
    "def generarAleatorios(n,k):\n",
    "    x0 = 10\n",
    "    numeros = []\n",
    "    numerosContados = []\n",
    "    for i in range(n):\n",
    "        ui,x0 = congruencial(x0)\n",
    "        ni = int(ui*k)\n",
    "        numeros.append(ni)\n",
    "    for i in range(k):\n",
    "        numerosContados.append(numeros.count(i))\n",
    "        \n",
    "    return numeros,numerosContados\n",
    "\n",
    "def chiCuadrado(n,aleatorios):\n",
    "    k = len(aleatorios)\n",
    "\n",
    "    ei = n/k\n",
    "   \n",
    "    x2 = []\n",
    "    for i in range(k):        \n",
    "        x = (((aleatorios[i] - ei)**2)/ei)\n",
    "     \n",
    "        x2.append(x)    \n",
    "    return x2\n",
    "\n",
    "n =10000\n",
    "k = 10\n",
    "aleatorios,numerosContados = generarAleatorios(n,k)\n",
    "print('n : ')\n",
    "print(n)\n",
    "print('k :')\n",
    "print(k)\n",
    "print('números :')\n",
    "print(numerosContados)\n",
    "\n",
    "chiCuadrado = chiCuadrado(n,numerosContados)\n",
    "\n",
    "print('Chi-square = ')\n",
    "print(np.sum(chiCuadrado))\n",
    "\n",
    "\n",
    "n, bins, patches = plt.hist(aleatorios, normed=1, facecolor='green')\n",
    "plt.show()"
   ]
  },
  {
   "cell_type": "markdown",
   "metadata": {},
   "source": [
    "### concluciones punto B\n",
    "\n",
    "Al evaluar el generador de números aleatorios Sinclair ZX81 $x_{i+1}=75 x_i \\mod (2^{16}+1)$ usando método de comprovación de uniformidad  $\\chi^2$, poemos deducir que ha mostrado muy buenos resultados mostrando un resultado aceptable, con un resultado favorable con respecto a la tabla de distribución de chi cuadrado \n",
    "   "
   ]
  },
  {
   "cell_type": "markdown",
   "metadata": {},
   "source": [
    "### T3: Taller 3. punto c\n",
    "\n",
    "Numerical reciepes ZX81 $a x_{n} + c \\mod m$\n",
    "\n",
    "#### Evaluación de Numerical reciepes $x_{i+1}= 1664525 x_i + 1013904223 \\mod 2^{32}$  usando el método $\\chi^2$   "
   ]
  },
  {
   "cell_type": "code",
   "execution_count": 66,
   "metadata": {
    "collapsed": false
   },
   "outputs": [
    {
     "name": "stdout",
     "output_type": "stream",
     "text": [
      "n : \n",
      "10000\n",
      "k :\n",
      "10\n",
      "números :\n",
      "[1006, 1045, 1048, 965, 960, 1005, 961, 1000, 1031, 979]\n",
      "Chi-square = \n",
      "10.138\n"
     ]
    },
    {
     "data": {
      "image/png": "[encoded data removed]",
      "text/plain": [
       "<matplotlib.figure.Figure at 0x18a971b4470>"
      ]
     },
     "metadata": {},
     "output_type": "display_data"
    }
   ],
   "source": [
    "%matplotlib inline \n",
    "import matplotlib.pyplot as plt\n",
    "import math\n",
    "import numpy as np\n",
    "import scipy as sp\n",
    "\n",
    "def  congruencial(x0):\n",
    "    a = 1664525\n",
    "    b = 1013904223\n",
    "    m = 2**32\n",
    "    xi = x0\n",
    "    ui =0\n",
    "    xi = (a*xi + b)%(m)\n",
    "    ui = float(xi)/float(m)\n",
    "\n",
    "    return ui,xi\n",
    "\n",
    "def generarAleatorios(n,k):\n",
    "    x0 = 10\n",
    "    numeros = []\n",
    "    numerosContados = []\n",
    "    for i in range(n):\n",
    "        ui,x0 = congruencial(x0)\n",
    "        ni = int(ui*k)\n",
    "        numeros.append(ni)\n",
    "    for i in range(k):\n",
    "        numerosContados.append(numeros.count(i))\n",
    "        \n",
    "    return numeros,numerosContados\n",
    "\n",
    "def chiCuadrado(n,aleatorios):\n",
    "    k = len(aleatorios)\n",
    "\n",
    "    ei = n/k\n",
    "   \n",
    "    x2 = []\n",
    "    for i in range(k):        \n",
    "        x = (((aleatorios[i] - ei)**2)/ei)\n",
    "     \n",
    "        x2.append(x)    \n",
    "    return x2\n",
    "\n",
    "n =10000\n",
    "k = 10\n",
    "aleatorios,numerosContados = generarAleatorios(n,k)\n",
    "print('n : ')\n",
    "print(n)\n",
    "print('k :')\n",
    "print(k)\n",
    "print('números :')\n",
    "print(numerosContados)\n",
    "\n",
    "chiCuadrado = chiCuadrado(n,numerosContados)\n",
    "\n",
    "print('Chi-square = ')\n",
    "print(np.sum(chiCuadrado))\n",
    "\n",
    "\n",
    "n, bins, patches = plt.hist(aleatorios, normed=1, facecolor='red')\n",
    "plt.show()\n",
    "    "
   ]
  },
  {
   "cell_type": "markdown",
   "metadata": {},
   "source": [
    "### concluciones punto c\n",
    "\n",
    "Al evaluar el generador de números aleatorios  reciepes $x_{i+1}= 1664525 x_i + 1013904223 \\mod 2^{32}$  usando método de comprovación de uniformidad  $\\chi^2$, poemos deducir que ha mostrado muy buenos resultados mostrando un resultado aceptable, con un resultado favorable con respecto a la tabla de distribución de chi cuadrado \n",
    "   "
   ]
  },
  {
   "cell_type": "markdown",
   "metadata": {},
   "source": [
    "### T3: Taller 3. punto D\n",
    "\n",
    "Borland C/C++ ZX81 $a x_{n} + c \\mod m$\n",
    "\n",
    "#### Evaluación de Borland C/C++ $x_{i+1}= 22695477 x_i + 1 \\mod 2^{32}$  usando el método $\\chi^2$   "
   ]
  },
  {
   "cell_type": "code",
   "execution_count": 69,
   "metadata": {
    "collapsed": false
   },
   "outputs": [
    {
     "name": "stdout",
     "output_type": "stream",
     "text": [
      "n : \n",
      "10000\n",
      "k :\n",
      "10\n",
      "números :\n",
      "[978, 1000, 984, 1068, 949, 960, 1051, 1025, 1059, 926]\n",
      "Chi-square = \n",
      "21.748\n"
     ]
    },
    {
     "data": {
      "image/png": "[encoded data removed]",
      "text/plain": [
       "<matplotlib.figure.Figure at 0x18a96f59eb8>"
      ]
     },
     "metadata": {},
     "output_type": "display_data"
    }
   ],
   "source": [
    "%matplotlib inline \n",
    "import matplotlib.pyplot as plt\n",
    "import math\n",
    "import numpy as np\n",
    "import scipy as sp\n",
    "\n",
    "def  congruencial(x0):\n",
    "    a = 22695477\n",
    "    b = 1\n",
    "    m = 2**32\n",
    "    xi = x0\n",
    "    ui =0\n",
    "    xi = (a*xi + b)%(m)\n",
    "    ui = float(xi)/float(m)\n",
    "\n",
    "    return ui,xi\n",
    "\n",
    "def generarAleatorios(n,k):\n",
    "    x0 = 10\n",
    "    numeros = []\n",
    "    numerosContados = []\n",
    "    for i in range(n):\n",
    "        ui,x0 = congruencial(x0)\n",
    "        ni = int(ui*k)\n",
    "        numeros.append(ni)\n",
    "    for i in range(k):\n",
    "        numerosContados.append(numeros.count(i))\n",
    "        \n",
    "    return numeros,numerosContados\n",
    "\n",
    "def chiCuadrado(n,aleatorios):\n",
    "    k = len(aleatorios)\n",
    "\n",
    "    ei = n/k\n",
    "   \n",
    "    x2 = []\n",
    "    for i in range(k):        \n",
    "        x = (((aleatorios[i] - ei)**2)/ei)\n",
    "     \n",
    "        x2.append(x)    \n",
    "    return x2\n",
    "\n",
    "n =10000\n",
    "k = 10\n",
    "aleatorios,numerosContados = generarAleatorios(n,k)\n",
    "print('n : ')\n",
    "print(n)\n",
    "print('k :')\n",
    "print(k)\n",
    "print('números :')\n",
    "print(numerosContados)\n",
    "\n",
    "chiCuadrado = chiCuadrado(n,numerosContados)\n",
    "\n",
    "print('Chi-square = ')\n",
    "print(np.sum(chiCuadrado))\n",
    "\n",
    "\n",
    "n, bins, patches = plt.hist(aleatorios, normed=1, facecolor='yellow')\n",
    "plt.show()"
   ]
  },
  {
   "cell_type": "markdown",
   "metadata": {},
   "source": [
    "### concluciones punto D\n",
    "\n",
    "Al evaluar el generador de números aleatorios  Borland C/C++ $x_{i+1}= 22695477 x_i + 1 \\mod 2^{32}$  usando método de comprovación de uniformidad  $\\chi^2$, poemos deducir que ha mostrado muy buenos resultados mostrando un resultado aceptable, con un resultado favorable con respecto a la tabla de distribución de chi cuadrado \n",
    "   "
   ]
  },
  {
   "cell_type": "code",
   "execution_count": null,
   "metadata": {
    "collapsed": true
   },
   "outputs": [],
   "source": []
  }
 ],
 "metadata": {
  "anaconda-cloud": {},
  "kernelspec": {
   "display_name": "Python [Root]",
   "language": "python",
   "name": "Python [Root]"
  },
  "language_info": {
   "codemirror_mode": {
    "name": "ipython",
    "version": 3
   },
   "file_extension": ".py",
   "mimetype": "text/x-python",
   "name": "python",
   "nbconvert_exporter": "python",
   "pygments_lexer": "ipython3",
   "version": "3.5.2"
  }
 },
 "nbformat": 4,
 "nbformat_minor": 0
}
