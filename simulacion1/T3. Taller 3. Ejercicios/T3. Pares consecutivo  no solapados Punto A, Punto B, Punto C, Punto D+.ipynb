{
 "cells": [
  {
   "cell_type": "markdown",
   "metadata": {},
   "source": [
    "## T3. Test pares consecutivos no solapados\n",
    "\n",
    "#### Librerías"
   ]
  },
  {
   "cell_type": "code",
   "execution_count": 28,
   "metadata": {
    "collapsed": true
   },
   "outputs": [],
   "source": [
    "%matplotlib inline \n",
    "import matplotlib.pyplot as plt\n",
    "import math"
   ]
  },
  {
   "cell_type": "markdown",
   "metadata": {},
   "source": [
    "### Generador de números aleatorios\n",
    "\n",
    "Función general de números aleatorios = $a x_{n} + c \\mod m$\n"
   ]
  },
  {
   "cell_type": "code",
   "execution_count": 29,
   "metadata": {
    "collapsed": true
   },
   "outputs": [],
   "source": [
    "\n",
    "def  congruencial(x0):\n",
    "    a = 1664525\n",
    "    b = 1013904223\n",
    "    m = 2**32\n",
    "    xi = x0\n",
    "    ui =0\n",
    "    xi = (a*xi + b)%(m)\n",
    "    ui = float(xi)/float(m)\n",
    "\n",
    "    return ui,xi\n",
    "    \n",
    "\n",
    "    \n"
   ]
  },
  {
   "cell_type": "markdown",
   "metadata": {},
   "source": [
    "### Funciones principales de pares no solapados"
   ]
  },
  {
   "cell_type": "code",
   "execution_count": 41,
   "metadata": {
    "collapsed": true
   },
   "outputs": [],
   "source": [
    "def generarNUmerosYi(k,n,semilla):\n",
    "    \n",
    "    xi = semilla\n",
    "    numeros = []\n",
    "    for i in range(n):\n",
    "        ui,xi = congruencial(xi)\n",
    "        num = int(ui*k)     \n",
    "        numeros.append(num)\n",
    "        \n",
    "    return numeros\n",
    "\n",
    "\n",
    "def parejas(num,n):\n",
    "    \n",
    "    parejas = []\n",
    "    n = int(n/2)\n",
    "    for i in range(n):\n",
    "        pareja = [num[i*2],num[i*2+1]]\n",
    "        parejas.append(pareja)\n",
    "    return parejas\n",
    "\n",
    "def Oij(parejas,k):\n",
    "    #n = len(parejas)\n",
    "    #n = n*2\n",
    "    n =k\n",
    "    coni = []\n",
    "    for i in range(n):\n",
    "        conj = []\n",
    "        for j in range(n):            \n",
    "            cont = 0;\n",
    "            for k in range(len(parejas)):                \n",
    "                if([i,j] == parejas[k]):\n",
    "                      cont=cont+1\n",
    "            conj.append(cont)\n",
    "        coni.append(conj)\n",
    "    return coni\n",
    "            \n",
    "def T(oj,k,n):\n",
    "    Eij = n/(2*(k**2))\n",
    "    T = 0\n",
    "    for i in range(k):\n",
    "        for j in range(k):\n",
    "            T = ((oij[i][j]-Eij)**2)/(Eij)+T\n",
    "            \n",
    "    return T"
   ]
  },
  {
   "cell_type": "markdown",
   "metadata": {},
   "source": [
    "## RANDU $x_{i+1}=65539 x_i \\mod 2^{31}$\n",
    "\n",
    "Ponemos a prueba nuestro generador de números aleatorios"
   ]
  },
  {
   "cell_type": "code",
   "execution_count": 31,
   "metadata": {
    "collapsed": false
   },
   "outputs": [
    {
     "name": "stdout",
     "output_type": "stream",
     "text": [
      "semilla :  5\n",
      "k :  10\n",
      "n :  1000\n",
      "t :  82.40000000000002\n"
     ]
    },
    {
     "data": {
      "image/png": "[encoded data removed]",
      "text/plain": [
       "<matplotlib.figure.Figure at 0x178e5ec4d68>"
      ]
     },
     "metadata": {},
     "output_type": "display_data"
    }
   ],
   "source": [
    "def  congruencial(x0):\n",
    "    a = 65539\n",
    "    b = 0\n",
    "    m = 2**31\n",
    "    xi = x0\n",
    "    ui =0\n",
    "    xi = (a*xi + b)%(m)\n",
    "    ui = float(xi)/float(m)\n",
    "\n",
    "    return ui,xi\n",
    "\n",
    "k = 10\n",
    "n = 1000\n",
    "\n",
    "semilla = 5\n",
    "\n",
    "num = generarNUmerosYi(k,n,semilla) #extraemos los npumeros Yi necesarios para nuestra funciómn\n",
    "\n",
    "parejas = parejas(num,n) # hallamos las parejas \n",
    "\n",
    "oij = Oij(parejas,k)\n",
    "\n",
    "print('semilla : ',semilla)\n",
    "print('k : ',k)\n",
    "print('n : ',n)\n",
    "\n",
    "T = T(oij,k,n)\n",
    "print('t : ',T )\n",
    "\n",
    "mostrar(num,'red')"
   ]
  },
  {
   "cell_type": "markdown",
   "metadata": {},
   "source": [
    "### Conclusión de la prueba RANDU $x_{i+1}=65539 x_i \\mod 2^{31}$\n",
    "#### Resultado de la prueba 82.40\n",
    "\n",
    "La hipótesis de uniformidad dice que se rechaza  si $T > $ $χ^{2}_{k^{2}−1}$ y comparando el valor en la tabla de $\\chi^2$. Para nuestro caso $K = 10$ y $ k^2 = 100 - 1 $ con lo que obtenemos que nuestros grados de libertad es $99$ comparamos en la tabla de $\\chi^2$ donde obtenemos el valor de $113.145$.\n",
    "\n",
    "En conclusión $χ^{2}_{k^{2}−1} = 82.40 < 113.145 $ por lo tanto podemos decidir que la prueba de uniformidad ha sido aceptada\n"
   ]
  },
  {
   "cell_type": "markdown",
   "metadata": {},
   "source": [
    "## Sinclair ZX81 $x_{i+1}=75 x_i \\mod (2^{16}+1)$\n",
    "\n",
    "Ponemos a prueba nuestro generador de números aleatorios"
   ]
  },
  {
   "cell_type": "code",
   "execution_count": 34,
   "metadata": {
    "collapsed": false
   },
   "outputs": [
    {
     "name": "stdout",
     "output_type": "stream",
     "text": [
      "semilla :  5\n",
      "k :  10\n",
      "n :  1000\n",
      "t :  95.19999999999999\n"
     ]
    },
    {
     "data": {
      "image/png": "[encoded data removed]",
      "text/plain": [
       "<matplotlib.figure.Figure at 0x178e5ef6518>"
      ]
     },
     "metadata": {},
     "output_type": "display_data"
    }
   ],
   "source": [
    "def  congruencial(x0):\n",
    "    a = 75\n",
    "    b = 0\n",
    "    m = 2**31+1\n",
    "    xi = x0\n",
    "    ui =0\n",
    "    xi = (a*xi + b)%(m)\n",
    "    ui = float(xi)/float(m)\n",
    "\n",
    "    return ui,xi\n",
    "\n",
    "k = 10\n",
    "n = 1000\n",
    "\n",
    "semilla = 5\n",
    "\n",
    "num = generarNUmerosYi(k,n,semilla) #extraemos los npumeros Yi necesarios para nuestra funciómn\n",
    "\n",
    "parejas = parejas(num,n) # hallamos las parejas \n",
    "\n",
    "oij = Oij(parejas,k)\n",
    "\n",
    "print('semilla : ',semilla)\n",
    "print('k : ',k)\n",
    "print('n : ',n)\n",
    "\n",
    "T = T(oij,k,n)\n",
    "print('t : ',T )\n",
    "\n",
    "mostrar(num,'yellow')"
   ]
  },
  {
   "cell_type": "markdown",
   "metadata": {},
   "source": [
    "### Conclusión de la prueba Sinclair ZX81 $x_{i+1}=75 x_i \\mod (2^{16}+1)$\n",
    "#### Resultado de la prueba 95.19\n",
    "\n",
    "La hipótesis de uniformidad dice que se rechaza  si $T > $ $χ^{2}_{k^{2}−1}$ y comparando el valor en la tabla de $\\chi^2$. Para nuestro caso $K = 10$ y $ k^2 = 100 - 1 $ con lo que obtenemos que nuestros grados de libertad es $99$ comparamos en la tabla de $\\chi^2$ donde obtenemos el valor de $113.145$.\n",
    "\n",
    "En conclusión $χ^{2}_{k^{2}−1} = 95.19 < 113.145 $ por lo tanto podemos decidir que la prueba de uniformidad ha sido aceptada aunque la anterior prueba ha tenido una mejor uniformidad"
   ]
  },
  {
   "cell_type": "markdown",
   "metadata": {},
   "source": [
    "## Numerical reciepes $x_{i+1}= 1664525 x_i + 1013904223 \\mod 2^{32}$\n",
    "\n",
    "Ponemos a prueba nuestro generador de números aleatorios"
   ]
  },
  {
   "cell_type": "code",
   "execution_count": 40,
   "metadata": {
    "collapsed": false
   },
   "outputs": [
    {
     "name": "stdout",
     "output_type": "stream",
     "text": [
      "semilla :  5\n",
      "k :  10\n",
      "n :  1000\n",
      "t :  83.2\n"
     ]
    },
    {
     "data": {
      "image/png": "[encoded data removed]",
      "text/plain": [
       "<matplotlib.figure.Figure at 0x178e605fc88>"
      ]
     },
     "metadata": {},
     "output_type": "display_data"
    }
   ],
   "source": [
    "def  congruencial(x0):\n",
    "    a = 1664525\n",
    "    b = 1013904223\n",
    "    m = 2**32\n",
    "    xi = x0\n",
    "    ui =0\n",
    "    xi = (a*xi + b)%(m)\n",
    "    ui = float(xi)/float(m)\n",
    "\n",
    "    return ui,xi\n",
    "\n",
    "k = 10\n",
    "n = 1000\n",
    "\n",
    "semilla = 5\n",
    "\n",
    "num = generarNUmerosYi(k,n,semilla) #extraemos los npumeros Yi necesarios para nuestra funciómn\n",
    "\n",
    "parejas = parejas(num,n) # hallamos las parejas \n",
    "\n",
    "oij = Oij(parejas,k)\n",
    "\n",
    "print('semilla : ',semilla)\n",
    "print('k : ',k)\n",
    "print('n : ',n)\n",
    "\n",
    "T = T(oij,k,n)\n",
    "print('t : ',T )\n",
    "\n",
    "mostrar(num,'green')"
   ]
  },
  {
   "cell_type": "markdown",
   "metadata": {},
   "source": [
    "### Conclusión de la prueba Numerical reciepes $x_{i+1}= 1664525 x_i + 1013904223 \\mod 2^{32}$\n",
    "#### resultado de la prueba 83.1\n",
    "La hipótesis de uniformidad dice que se rechaza  si $T > $ $χ^{2}_{k^{2}−1}$ y comparando el valor en la tabla de $\\chi^2$. Para nuestro caso $K = 10$ y $ k^2 = 100 - 1 $ con lo que obtenemos que nuestros grados de libertad es $99$ comparamos en la tabla de $\\chi^2$ donde obtenemos el valor de $113.145$.\n",
    "\n",
    "En conclusión $χ^{2}_{k^{2}−1} = 83.1 < 113.145 $ por lo tanto podemos decidir que la prueba de uniformidad ha sido aceptada, con unos resultados similares que en la prueba de RANDU"
   ]
  },
  {
   "cell_type": "markdown",
   "metadata": {},
   "source": [
    "##  Borland C/C++ $x_{i+1}= 22695477 x_i + 1 \\mod 2^{32}$\n",
    "\n",
    "Ponemos a prueba nuestro generador de números aleatorios"
   ]
  },
  {
   "cell_type": "code",
   "execution_count": 42,
   "metadata": {
    "collapsed": false
   },
   "outputs": [
    {
     "name": "stdout",
     "output_type": "stream",
     "text": [
      "semilla :  5\n",
      "k :  10\n",
      "n :  1000\n",
      "t :  80.40000000000002\n"
     ]
    },
    {
     "data": {
      "image/png": "[encoded data removed]",
      "text/plain": [
       "<matplotlib.figure.Figure at 0x178e60baef0>"
      ]
     },
     "metadata": {},
     "output_type": "display_data"
    }
   ],
   "source": [
    "def  congruencial(x0):\n",
    "    a = 22695477\n",
    "    b = 1\n",
    "    m = 2**32\n",
    "    xi = x0\n",
    "    ui =0\n",
    "    xi = (a*xi + b)%(m)\n",
    "    ui = float(xi)/float(m)\n",
    "\n",
    "    return ui,xi\n",
    "\n",
    "k = 10\n",
    "n = 1000\n",
    "\n",
    "semilla = 5\n",
    "\n",
    "num = generarNUmerosYi(k,n,semilla) #extraemos los npumeros Yi necesarios para nuestra funciómn\n",
    "\n",
    "parejas = parejas(num,n) # hallamos las parejas \n",
    "\n",
    "oij = Oij(parejas,k)\n",
    "\n",
    "print('semilla : ',semilla)\n",
    "print('k : ',k)\n",
    "print('n : ',n)\n",
    "\n",
    "T = T(oij,k,n)\n",
    "print('t : ',T )\n",
    "\n",
    "mostrar(num,'orange')"
   ]
  },
  {
   "cell_type": "markdown",
   "metadata": {},
   "source": [
    "### Conclusión de la prueba Borland C/C++ $x_{i+1}= 22695477 x_i + 1 \\mod 2^{32}$\n",
    "#### resultado de la prueba 80.4\n",
    "La hipótesis de uniformidad dice que se rechaza  si $T > $ $χ^{2}_{k^{2}−1}$ y comparando el valor en la tabla de $\\chi^2$. Para nuestro caso $K = 10$ y $ k^2 = 100 - 1 $ con lo que obtenemos que nuestros grados de libertad es $99$ comparamos en la tabla de $\\chi^2$ donde obtenemos el valor de $113.145$.\n",
    "\n",
    "En conclusión $χ^{2}_{k^{2}−1} = 80.4 < 113.145 $ por lo tanto podemos decidir que la prueba de uniformidad ha sido aceptada."
   ]
  },
  {
   "cell_type": "markdown",
   "metadata": {},
   "source": [
    "Finalmente se ha llegado a la conclución que el mejor método de generación te numeros alejatorios, testeado con el test pares consecutivos solapados el el de $Borland C/C++$"
   ]
  },
  {
   "cell_type": "code",
   "execution_count": null,
   "metadata": {
    "collapsed": true
   },
   "outputs": [],
   "source": []
  }
 ],
 "metadata": {
  "anaconda-cloud": {},
  "kernelspec": {
   "display_name": "Python [Root]",
   "language": "python",
   "name": "Python [Root]"
  },
  "language_info": {
   "codemirror_mode": {
    "name": "ipython",
    "version": 3
   },
   "file_extension": ".py",
   "mimetype": "text/x-python",
   "name": "python",
   "nbconvert_exporter": "python",
   "pygments_lexer": "ipython3",
   "version": "3.5.2"
  }
 },
 "nbformat": 4,
 "nbformat_minor": 0
}
